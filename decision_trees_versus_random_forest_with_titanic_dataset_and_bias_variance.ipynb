{
  "nbformat": 4,
  "nbformat_minor": 0,
  "metadata": {
    "colab": {
      "provenance": [],
      "toc_visible": true
    },
    "kernelspec": {
      "name": "python3",
      "display_name": "Python 3"
    },
    "language_info": {
      "name": "python"
    }
  },
  "cells": [
    {
      "cell_type": "markdown",
      "source": [
        "# Decision Tree versus Random Forest, and Hyperparameter Optimisation"
      ],
      "metadata": {
        "id": "thsbBeMjGYwU"
      }
    },
    {
      "cell_type": "markdown",
      "source": [
        "Read my blog post [Decision Tree versus Random Forest, and Hyperparameter Optimisation](https://daehnhardt.com/blog/2023/11/06/decision_trees_vs_random_forest_hyperparameters/) for more details."
      ],
      "metadata": {
        "id": "UbUuTpnHUsnP"
      }
    },
    {
      "cell_type": "code",
      "source": [
        "# Use for calculating the execution time on cell level:\n",
        "# https://pypi.org/project/ipython-autotime/\n",
        "!pip install ipython-autotime\n",
        "%load_ext autotime"
      ],
      "metadata": {
        "colab": {
          "base_uri": "https://localhost:8080/"
        },
        "id": "fbapf3sbfJ5P",
        "outputId": "2000e9f0-bf7f-457b-eed1-f8629b268350"
      },
      "execution_count": null,
      "outputs": [
        {
          "output_type": "stream",
          "name": "stdout",
          "text": [
            "Requirement already satisfied: ipython-autotime in /usr/local/lib/python3.10/dist-packages (0.3.2)\n",
            "Requirement already satisfied: ipython in /usr/local/lib/python3.10/dist-packages (from ipython-autotime) (7.34.0)\n",
            "Requirement already satisfied: setuptools>=18.5 in /usr/local/lib/python3.10/dist-packages (from ipython->ipython-autotime) (67.7.2)\n",
            "Requirement already satisfied: jedi>=0.16 in /usr/local/lib/python3.10/dist-packages (from ipython->ipython-autotime) (0.19.1)\n",
            "Requirement already satisfied: decorator in /usr/local/lib/python3.10/dist-packages (from ipython->ipython-autotime) (4.4.2)\n",
            "Requirement already satisfied: pickleshare in /usr/local/lib/python3.10/dist-packages (from ipython->ipython-autotime) (0.7.5)\n",
            "Requirement already satisfied: traitlets>=4.2 in /usr/local/lib/python3.10/dist-packages (from ipython->ipython-autotime) (5.7.1)\n",
            "Requirement already satisfied: prompt-toolkit!=3.0.0,!=3.0.1,<3.1.0,>=2.0.0 in /usr/local/lib/python3.10/dist-packages (from ipython->ipython-autotime) (3.0.39)\n",
            "Requirement already satisfied: pygments in /usr/local/lib/python3.10/dist-packages (from ipython->ipython-autotime) (2.16.1)\n",
            "Requirement already satisfied: backcall in /usr/local/lib/python3.10/dist-packages (from ipython->ipython-autotime) (0.2.0)\n",
            "Requirement already satisfied: matplotlib-inline in /usr/local/lib/python3.10/dist-packages (from ipython->ipython-autotime) (0.1.6)\n",
            "Requirement already satisfied: pexpect>4.3 in /usr/local/lib/python3.10/dist-packages (from ipython->ipython-autotime) (4.8.0)\n",
            "Requirement already satisfied: parso<0.9.0,>=0.8.3 in /usr/local/lib/python3.10/dist-packages (from jedi>=0.16->ipython->ipython-autotime) (0.8.3)\n",
            "Requirement already satisfied: ptyprocess>=0.5 in /usr/local/lib/python3.10/dist-packages (from pexpect>4.3->ipython->ipython-autotime) (0.7.0)\n",
            "Requirement already satisfied: wcwidth in /usr/local/lib/python3.10/dist-packages (from prompt-toolkit!=3.0.0,!=3.0.1,<3.1.0,>=2.0.0->ipython->ipython-autotime) (0.2.8)\n",
            "The autotime extension is already loaded. To reload it, use:\n",
            "  %reload_ext autotime\n",
            "time: 6.55 s (started: 2023-11-06 11:57:23 +00:00)\n"
          ]
        }
      ]
    },
    {
      "cell_type": "markdown",
      "source": [
        "# Decision Trees"
      ],
      "metadata": {
        "id": "Np4oZoLFLu8F"
      }
    },
    {
      "cell_type": "code",
      "execution_count": null,
      "metadata": {
        "id": "XIcDn2k3jX26",
        "colab": {
          "base_uri": "https://localhost:8080/"
        },
        "outputId": "797732bf-cb2a-4c66-c647-2874ec0fc7d3"
      },
      "outputs": [
        {
          "output_type": "stream",
          "name": "stdout",
          "text": [
            "time: 714 µs (started: 2023-11-06 11:57:30 +00:00)\n"
          ]
        }
      ],
      "source": [
        "# Importing libraries\n",
        "import pandas as pd\n",
        "from sklearn.tree import DecisionTreeClassifier\n",
        "from sklearn.model_selection import train_test_split\n",
        "from sklearn.metrics import accuracy_score"
      ]
    },
    {
      "cell_type": "code",
      "source": [
        "# Load the dataset\n",
        "url = 'https://raw.githubusercontent.com/edaehn/python_tutorials/main/titanic/train.csv'\n",
        "titanic = pd.read_csv(url)\n",
        "\n",
        "# Drop unnecessary columns and handle missing values\n",
        "titanic = titanic.drop(['PassengerId', 'Name', 'Ticket', 'Cabin', 'Embarked'], axis=1)\n",
        "titanic['Age'].fillna(titanic['Age'].mean(), inplace=True)\n",
        "titanic['Fare'].fillna(titanic['Fare'].mean(), inplace=True)\n",
        "titanic['Sex'] = titanic['Sex'].map({'male': 0, 'female': 1})\n",
        "titanic['Survived'] = titanic['Survived'].astype(int)\n",
        "\n",
        "# Define features (X) and target (y)\n",
        "X = titanic.drop('Survived', axis=1)\n",
        "y = titanic['Survived']"
      ],
      "metadata": {
        "id": "vpABr2pAL1H6"
      },
      "execution_count": null,
      "outputs": []
    },
    {
      "cell_type": "code",
      "source": [
        "X.head()"
      ],
      "metadata": {
        "colab": {
          "base_uri": "https://localhost:8080/",
          "height": 204
        },
        "id": "EHS3JLteMTrD",
        "outputId": "8aca6aef-6738-47b0-d117-80b124590605"
      },
      "execution_count": null,
      "outputs": [
        {
          "output_type": "execute_result",
          "data": {
            "text/plain": [
              "   Pclass  Sex   Age  SibSp  Parch     Fare\n",
              "0       3    0  22.0      1      0   7.2500\n",
              "1       1    1  38.0      1      0  71.2833\n",
              "2       3    1  26.0      0      0   7.9250\n",
              "3       1    1  35.0      1      0  53.1000\n",
              "4       3    0  35.0      0      0   8.0500"
            ],
            "text/html": [
              "\n",
              "  <div id=\"df-df725cb6-793b-4a3d-8d83-5320eb338761\" class=\"colab-df-container\">\n",
              "    <div>\n",
              "<style scoped>\n",
              "    .dataframe tbody tr th:only-of-type {\n",
              "        vertical-align: middle;\n",
              "    }\n",
              "\n",
              "    .dataframe tbody tr th {\n",
              "        vertical-align: top;\n",
              "    }\n",
              "\n",
              "    .dataframe thead th {\n",
              "        text-align: right;\n",
              "    }\n",
              "</style>\n",
              "<table border=\"1\" class=\"dataframe\">\n",
              "  <thead>\n",
              "    <tr style=\"text-align: right;\">\n",
              "      <th></th>\n",
              "      <th>Pclass</th>\n",
              "      <th>Sex</th>\n",
              "      <th>Age</th>\n",
              "      <th>SibSp</th>\n",
              "      <th>Parch</th>\n",
              "      <th>Fare</th>\n",
              "    </tr>\n",
              "  </thead>\n",
              "  <tbody>\n",
              "    <tr>\n",
              "      <th>0</th>\n",
              "      <td>3</td>\n",
              "      <td>0</td>\n",
              "      <td>22.0</td>\n",
              "      <td>1</td>\n",
              "      <td>0</td>\n",
              "      <td>7.2500</td>\n",
              "    </tr>\n",
              "    <tr>\n",
              "      <th>1</th>\n",
              "      <td>1</td>\n",
              "      <td>1</td>\n",
              "      <td>38.0</td>\n",
              "      <td>1</td>\n",
              "      <td>0</td>\n",
              "      <td>71.2833</td>\n",
              "    </tr>\n",
              "    <tr>\n",
              "      <th>2</th>\n",
              "      <td>3</td>\n",
              "      <td>1</td>\n",
              "      <td>26.0</td>\n",
              "      <td>0</td>\n",
              "      <td>0</td>\n",
              "      <td>7.9250</td>\n",
              "    </tr>\n",
              "    <tr>\n",
              "      <th>3</th>\n",
              "      <td>1</td>\n",
              "      <td>1</td>\n",
              "      <td>35.0</td>\n",
              "      <td>1</td>\n",
              "      <td>0</td>\n",
              "      <td>53.1000</td>\n",
              "    </tr>\n",
              "    <tr>\n",
              "      <th>4</th>\n",
              "      <td>3</td>\n",
              "      <td>0</td>\n",
              "      <td>35.0</td>\n",
              "      <td>0</td>\n",
              "      <td>0</td>\n",
              "      <td>8.0500</td>\n",
              "    </tr>\n",
              "  </tbody>\n",
              "</table>\n",
              "</div>\n",
              "    <div class=\"colab-df-buttons\">\n",
              "\n",
              "  <div class=\"colab-df-container\">\n",
              "    <button class=\"colab-df-convert\" onclick=\"convertToInteractive('df-df725cb6-793b-4a3d-8d83-5320eb338761')\"\n",
              "            title=\"Convert this dataframe to an interactive table.\"\n",
              "            style=\"display:none;\">\n",
              "\n",
              "  <svg xmlns=\"http://www.w3.org/2000/svg\" height=\"24px\" viewBox=\"0 -960 960 960\">\n",
              "    <path d=\"M120-120v-720h720v720H120Zm60-500h600v-160H180v160Zm220 220h160v-160H400v160Zm0 220h160v-160H400v160ZM180-400h160v-160H180v160Zm440 0h160v-160H620v160ZM180-180h160v-160H180v160Zm440 0h160v-160H620v160Z\"/>\n",
              "  </svg>\n",
              "    </button>\n",
              "\n",
              "  <style>\n",
              "    .colab-df-container {\n",
              "      display:flex;\n",
              "      gap: 12px;\n",
              "    }\n",
              "\n",
              "    .colab-df-convert {\n",
              "      background-color: #E8F0FE;\n",
              "      border: none;\n",
              "      border-radius: 50%;\n",
              "      cursor: pointer;\n",
              "      display: none;\n",
              "      fill: #1967D2;\n",
              "      height: 32px;\n",
              "      padding: 0 0 0 0;\n",
              "      width: 32px;\n",
              "    }\n",
              "\n",
              "    .colab-df-convert:hover {\n",
              "      background-color: #E2EBFA;\n",
              "      box-shadow: 0px 1px 2px rgba(60, 64, 67, 0.3), 0px 1px 3px 1px rgba(60, 64, 67, 0.15);\n",
              "      fill: #174EA6;\n",
              "    }\n",
              "\n",
              "    .colab-df-buttons div {\n",
              "      margin-bottom: 4px;\n",
              "    }\n",
              "\n",
              "    [theme=dark] .colab-df-convert {\n",
              "      background-color: #3B4455;\n",
              "      fill: #D2E3FC;\n",
              "    }\n",
              "\n",
              "    [theme=dark] .colab-df-convert:hover {\n",
              "      background-color: #434B5C;\n",
              "      box-shadow: 0px 1px 3px 1px rgba(0, 0, 0, 0.15);\n",
              "      filter: drop-shadow(0px 1px 2px rgba(0, 0, 0, 0.3));\n",
              "      fill: #FFFFFF;\n",
              "    }\n",
              "  </style>\n",
              "\n",
              "    <script>\n",
              "      const buttonEl =\n",
              "        document.querySelector('#df-df725cb6-793b-4a3d-8d83-5320eb338761 button.colab-df-convert');\n",
              "      buttonEl.style.display =\n",
              "        google.colab.kernel.accessAllowed ? 'block' : 'none';\n",
              "\n",
              "      async function convertToInteractive(key) {\n",
              "        const element = document.querySelector('#df-df725cb6-793b-4a3d-8d83-5320eb338761');\n",
              "        const dataTable =\n",
              "          await google.colab.kernel.invokeFunction('convertToInteractive',\n",
              "                                                    [key], {});\n",
              "        if (!dataTable) return;\n",
              "\n",
              "        const docLinkHtml = 'Like what you see? Visit the ' +\n",
              "          '<a target=\"_blank\" href=https://colab.research.google.com/notebooks/data_table.ipynb>data table notebook</a>'\n",
              "          + ' to learn more about interactive tables.';\n",
              "        element.innerHTML = '';\n",
              "        dataTable['output_type'] = 'display_data';\n",
              "        await google.colab.output.renderOutput(dataTable, element);\n",
              "        const docLink = document.createElement('div');\n",
              "        docLink.innerHTML = docLinkHtml;\n",
              "        element.appendChild(docLink);\n",
              "      }\n",
              "    </script>\n",
              "  </div>\n",
              "\n",
              "\n",
              "<div id=\"df-d6679a0b-4a6d-49b6-a7f2-cc46697a98e9\">\n",
              "  <button class=\"colab-df-quickchart\" onclick=\"quickchart('df-d6679a0b-4a6d-49b6-a7f2-cc46697a98e9')\"\n",
              "            title=\"Suggest charts.\"\n",
              "            style=\"display:none;\">\n",
              "\n",
              "<svg xmlns=\"http://www.w3.org/2000/svg\" height=\"24px\"viewBox=\"0 0 24 24\"\n",
              "     width=\"24px\">\n",
              "    <g>\n",
              "        <path d=\"M19 3H5c-1.1 0-2 .9-2 2v14c0 1.1.9 2 2 2h14c1.1 0 2-.9 2-2V5c0-1.1-.9-2-2-2zM9 17H7v-7h2v7zm4 0h-2V7h2v10zm4 0h-2v-4h2v4z\"/>\n",
              "    </g>\n",
              "</svg>\n",
              "  </button>\n",
              "\n",
              "<style>\n",
              "  .colab-df-quickchart {\n",
              "      --bg-color: #E8F0FE;\n",
              "      --fill-color: #1967D2;\n",
              "      --hover-bg-color: #E2EBFA;\n",
              "      --hover-fill-color: #174EA6;\n",
              "      --disabled-fill-color: #AAA;\n",
              "      --disabled-bg-color: #DDD;\n",
              "  }\n",
              "\n",
              "  [theme=dark] .colab-df-quickchart {\n",
              "      --bg-color: #3B4455;\n",
              "      --fill-color: #D2E3FC;\n",
              "      --hover-bg-color: #434B5C;\n",
              "      --hover-fill-color: #FFFFFF;\n",
              "      --disabled-bg-color: #3B4455;\n",
              "      --disabled-fill-color: #666;\n",
              "  }\n",
              "\n",
              "  .colab-df-quickchart {\n",
              "    background-color: var(--bg-color);\n",
              "    border: none;\n",
              "    border-radius: 50%;\n",
              "    cursor: pointer;\n",
              "    display: none;\n",
              "    fill: var(--fill-color);\n",
              "    height: 32px;\n",
              "    padding: 0;\n",
              "    width: 32px;\n",
              "  }\n",
              "\n",
              "  .colab-df-quickchart:hover {\n",
              "    background-color: var(--hover-bg-color);\n",
              "    box-shadow: 0 1px 2px rgba(60, 64, 67, 0.3), 0 1px 3px 1px rgba(60, 64, 67, 0.15);\n",
              "    fill: var(--button-hover-fill-color);\n",
              "  }\n",
              "\n",
              "  .colab-df-quickchart-complete:disabled,\n",
              "  .colab-df-quickchart-complete:disabled:hover {\n",
              "    background-color: var(--disabled-bg-color);\n",
              "    fill: var(--disabled-fill-color);\n",
              "    box-shadow: none;\n",
              "  }\n",
              "\n",
              "  .colab-df-spinner {\n",
              "    border: 2px solid var(--fill-color);\n",
              "    border-color: transparent;\n",
              "    border-bottom-color: var(--fill-color);\n",
              "    animation:\n",
              "      spin 1s steps(1) infinite;\n",
              "  }\n",
              "\n",
              "  @keyframes spin {\n",
              "    0% {\n",
              "      border-color: transparent;\n",
              "      border-bottom-color: var(--fill-color);\n",
              "      border-left-color: var(--fill-color);\n",
              "    }\n",
              "    20% {\n",
              "      border-color: transparent;\n",
              "      border-left-color: var(--fill-color);\n",
              "      border-top-color: var(--fill-color);\n",
              "    }\n",
              "    30% {\n",
              "      border-color: transparent;\n",
              "      border-left-color: var(--fill-color);\n",
              "      border-top-color: var(--fill-color);\n",
              "      border-right-color: var(--fill-color);\n",
              "    }\n",
              "    40% {\n",
              "      border-color: transparent;\n",
              "      border-right-color: var(--fill-color);\n",
              "      border-top-color: var(--fill-color);\n",
              "    }\n",
              "    60% {\n",
              "      border-color: transparent;\n",
              "      border-right-color: var(--fill-color);\n",
              "    }\n",
              "    80% {\n",
              "      border-color: transparent;\n",
              "      border-right-color: var(--fill-color);\n",
              "      border-bottom-color: var(--fill-color);\n",
              "    }\n",
              "    90% {\n",
              "      border-color: transparent;\n",
              "      border-bottom-color: var(--fill-color);\n",
              "    }\n",
              "  }\n",
              "</style>\n",
              "\n",
              "  <script>\n",
              "    async function quickchart(key) {\n",
              "      const quickchartButtonEl =\n",
              "        document.querySelector('#' + key + ' button');\n",
              "      quickchartButtonEl.disabled = true;  // To prevent multiple clicks.\n",
              "      quickchartButtonEl.classList.add('colab-df-spinner');\n",
              "      try {\n",
              "        const charts = await google.colab.kernel.invokeFunction(\n",
              "            'suggestCharts', [key], {});\n",
              "      } catch (error) {\n",
              "        console.error('Error during call to suggestCharts:', error);\n",
              "      }\n",
              "      quickchartButtonEl.classList.remove('colab-df-spinner');\n",
              "      quickchartButtonEl.classList.add('colab-df-quickchart-complete');\n",
              "    }\n",
              "    (() => {\n",
              "      let quickchartButtonEl =\n",
              "        document.querySelector('#df-d6679a0b-4a6d-49b6-a7f2-cc46697a98e9 button');\n",
              "      quickchartButtonEl.style.display =\n",
              "        google.colab.kernel.accessAllowed ? 'block' : 'none';\n",
              "    })();\n",
              "  </script>\n",
              "</div>\n",
              "    </div>\n",
              "  </div>\n"
            ]
          },
          "metadata": {},
          "execution_count": 7
        }
      ]
    },
    {
      "cell_type": "code",
      "source": [
        "# Split the data\n",
        "X_train, X_test, y_train, y_test = train_test_split(X, y, test_size=0.2, random_state=42)"
      ],
      "metadata": {
        "id": "Xgzb0y13Mzlp"
      },
      "execution_count": null,
      "outputs": []
    },
    {
      "cell_type": "code",
      "source": [
        "# Check the data shapes\n",
        "print(f\"X_train: {X_train.shape}, X_test: {X_test.shape}\\ny_train: {y_train.shape}, y_test: {y_test.shape}\")"
      ],
      "metadata": {
        "colab": {
          "base_uri": "https://localhost:8080/"
        },
        "id": "vtIYChdAM485",
        "outputId": "703b893a-825d-48ae-b3a5-b7d477b9e3ae"
      },
      "execution_count": null,
      "outputs": [
        {
          "output_type": "stream",
          "name": "stdout",
          "text": [
            "X_train: (712, 6), X_test: (179, 6)\n",
            "y_train: (712,), y_test: (179,)\n"
          ]
        }
      ]
    },
    {
      "cell_type": "code",
      "source": [
        "# Create a DecisionTreeClassifier\n",
        "decision_tree_clf = DecisionTreeClassifier()\n",
        "\n",
        "# Fit the model to the training data\n",
        "decision_tree_clf.fit(X_train, y_train)\n",
        "\n",
        "# Make predictions on the test data\n",
        "decision_tree_y_pred = decision_tree_clf.predict(X_test)"
      ],
      "metadata": {
        "id": "kto5SMu_Ofej"
      },
      "execution_count": null,
      "outputs": []
    },
    {
      "cell_type": "code",
      "source": [
        "# Calculate the accuracy of the model\n",
        "decision_tree_accuracy = accuracy_score(y_test, decision_tree_y_pred)\n",
        "print(f\"Accuracy: {decision_tree_accuracy:.2f}\")"
      ],
      "metadata": {
        "colab": {
          "base_uri": "https://localhost:8080/"
        },
        "id": "WuNRXinPPD6u",
        "outputId": "5579d41e-cd3d-416f-99de-fe2b94904a76"
      },
      "execution_count": null,
      "outputs": [
        {
          "output_type": "stream",
          "name": "stdout",
          "text": [
            "Accuracy: 0.77\n"
          ]
        }
      ]
    },
    {
      "cell_type": "markdown",
      "source": [
        "# Random Forest"
      ],
      "metadata": {
        "id": "SNM5dvfzPx4d"
      }
    },
    {
      "cell_type": "code",
      "source": [
        "from sklearn.ensemble import RandomForestClassifier"
      ],
      "metadata": {
        "id": "ZLOx1cwJPzko"
      },
      "execution_count": null,
      "outputs": []
    },
    {
      "cell_type": "code",
      "source": [
        "# Create a RandomForestClassifier\n",
        "random_forest_clf = RandomForestClassifier(n_estimators=100, random_state=42)\n",
        "\n",
        "# Fit the model to the training data\n",
        "random_forest_clf.fit(X_train, y_train)\n",
        "\n",
        "# Make predictions on the test data\n",
        "random_forest_y_pred = random_forest_clf.predict(X_test)"
      ],
      "metadata": {
        "id": "7EzcVN3CQoks"
      },
      "execution_count": null,
      "outputs": []
    },
    {
      "cell_type": "code",
      "source": [
        "# Calculate the accuracy of the Random Forest model\n",
        "random_forest_clf_accuracy = accuracy_score(y_test, random_forest_y_pred)\n",
        "print(f\"Accuracy: {random_forest_clf_accuracy:.2f}\")"
      ],
      "metadata": {
        "colab": {
          "base_uri": "https://localhost:8080/"
        },
        "id": "Djz29HsdRffX",
        "outputId": "f334a7e9-253a-471d-ab4c-baa81fe60665"
      },
      "execution_count": null,
      "outputs": [
        {
          "output_type": "stream",
          "name": "stdout",
          "text": [
            "Accuracy: 0.80\n"
          ]
        }
      ]
    },
    {
      "cell_type": "code",
      "source": [
        "# import matplotlib\n",
        "import matplotlib.pyplot as plt\n",
        "\n",
        "# Create a bar chart to compare model accuracies\n",
        "models = ['Decision Tree', 'Random Forest']\n",
        "accuracies = [decision_tree_accuracy, random_forest_clf_accuracy]\n",
        "\n",
        "plt.bar(models, accuracies, color=['blue', 'green'])\n",
        "plt.xlabel('Classifier')\n",
        "plt.ylabel('Accuracy')\n",
        "plt.title('Classifier Performance Comparison')\n",
        "plt.ylim(0, 1)\n",
        "\n",
        "plt.show()"
      ],
      "metadata": {
        "colab": {
          "base_uri": "https://localhost:8080/",
          "height": 472
        },
        "id": "iamIT6PrSs9d",
        "outputId": "e72b4c1e-e2ab-4abe-aa3d-6e15035f111c"
      },
      "execution_count": null,
      "outputs": [
        {
          "output_type": "display_data",
          "data": {
            "text/plain": [
              "<Figure size 640x480 with 1 Axes>"
            ],
            "image/png": "[encoded data removed]"
          },
          "metadata": {}
        }
      ]
    },
    {
      "cell_type": "code",
      "source": [
        "# Import tree\n",
        "from sklearn import tree\n",
        "\n",
        "# Plot the decision tree\n",
        "tree.plot_tree(decision_tree_clf, feature_names=X_train.columns, class_names=['Died','Survived'], filled=True)\n"
      ],
      "metadata": {
        "colab": {
          "base_uri": "https://localhost:8080/",
          "height": 1000
        },
        "id": "8bYvQItQUdzY",
        "outputId": "7d6fd161-3287-45ae-f153-df9bb65950ef"
      },
      "execution_count": null,
      "outputs": [
        {
          "output_type": "execute_result",
          "data": {
            "text/plain": [
              "[Text(0.4718265133304196, 0.9791666666666666, 'Sex <= 0.5\\ngini = 0.469\\nsamples = 712\\nvalue = [444, 268]\\nclass = Died'),\n",
              " Text(0.1784650895979021, 0.9375, 'Age <= 6.5\\ngini = 0.303\\nsamples = 467\\nvalue = [380, 87]\\nclass = Died'),\n",
              " Text(0.05244755244755245, 0.8958333333333334, 'SibSp <= 2.5\\ngini = 0.434\\nsamples = 22\\nvalue = [7, 15]\\nclass = Survived'),\n",
              " Text(0.045454545454545456, 0.8541666666666666, 'gini = 0.0\\nsamples = 14\\nvalue = [0, 14]\\nclass = Survived'),\n",
              " Text(0.05944055944055944, 0.8541666666666666, 'Age <= 2.5\\ngini = 0.219\\nsamples = 8\\nvalue = [7, 1]\\nclass = Died'),\n",
              " Text(0.05244755244755245, 0.8125, 'gini = 0.0\\nsamples = 5\\nvalue = [5, 0]\\nclass = Died'),\n",
              " Text(0.06643356643356643, 0.8125, 'Age <= 3.5\\ngini = 0.444\\nsamples = 3\\nvalue = [2, 1]\\nclass = Died'),\n",
              " Text(0.05944055944055944, 0.7708333333333334, 'gini = 0.0\\nsamples = 1\\nvalue = [0, 1]\\nclass = Survived'),\n",
              " Text(0.07342657342657342, 0.7708333333333334, 'gini = 0.0\\nsamples = 2\\nvalue = [2, 0]\\nclass = Died'),\n",
              " Text(0.3044826267482518, 0.8958333333333334, 'Pclass <= 1.5\\ngini = 0.271\\nsamples = 445\\nvalue = [373, 72]\\nclass = Died'),\n",
              " Text(0.10139860139860139, 0.8541666666666666, 'Fare <= 387.665\\ngini = 0.442\\nsamples = 91\\nvalue = [61, 30]\\nclass = Died'),\n",
              " Text(0.0944055944055944, 0.8125, 'Fare <= 26.144\\ngini = 0.431\\nsamples = 89\\nvalue = [61, 28]\\nclass = Died'),\n",
              " Text(0.08741258741258741, 0.7708333333333334, 'gini = 0.0\\nsamples = 7\\nvalue = [7, 0]\\nclass = Died'),\n",
              " Text(0.10139860139860139, 0.7708333333333334, 'Fare <= 134.642\\ngini = 0.45\\nsamples = 82\\nvalue = [54, 28]\\nclass = Died'),\n",
              " Text(0.0944055944055944, 0.7291666666666666, 'Age <= 27.5\\ngini = 0.468\\nsamples = 75\\nvalue = [47, 28]\\nclass = Died'),\n",
              " Text(0.08041958041958042, 0.6875, 'Age <= 23.0\\ngini = 0.444\\nsamples = 9\\nvalue = [3, 6]\\nclass = Survived'),\n",
              " Text(0.07342657342657342, 0.6458333333333334, 'Age <= 17.5\\ngini = 0.375\\nsamples = 4\\nvalue = [3, 1]\\nclass = Died'),\n",
              " Text(0.06643356643356643, 0.6041666666666666, 'gini = 0.0\\nsamples = 1\\nvalue = [0, 1]\\nclass = Survived'),\n",
              " Text(0.08041958041958042, 0.6041666666666666, 'gini = 0.0\\nsamples = 3\\nvalue = [3, 0]\\nclass = Died'),\n",
              " Text(0.08741258741258741, 0.6458333333333334, 'gini = 0.0\\nsamples = 5\\nvalue = [0, 5]\\nclass = Survived'),\n",
              " Text(0.10839160839160839, 0.6875, 'Fare <= 26.419\\ngini = 0.444\\nsamples = 66\\nvalue = [44, 22]\\nclass = Died'),\n",
              " Text(0.10139860139860139, 0.6458333333333334, 'gini = 0.0\\nsamples = 2\\nvalue = [0, 2]\\nclass = Survived'),\n",
              " Text(0.11538461538461539, 0.6458333333333334, 'Fare <= 115.442\\ngini = 0.43\\nsamples = 64\\nvalue = [44, 20]\\nclass = Died'),\n",
              " Text(0.10839160839160839, 0.6041666666666666, 'Age <= 75.0\\ngini = 0.412\\nsamples = 62\\nvalue = [44, 18]\\nclass = Died'),\n",
              " Text(0.10139860139860139, 0.5625, 'Age <= 60.5\\ngini = 0.402\\nsamples = 61\\nvalue = [44, 17]\\nclass = Died'),\n",
              " Text(0.0944055944055944, 0.5208333333333334, 'Fare <= 37.55\\ngini = 0.423\\nsamples = 56\\nvalue = [39, 17]\\nclass = Died'),\n",
              " Text(0.055944055944055944, 0.4791666666666667, 'Age <= 28.5\\ngini = 0.483\\nsamples = 27\\nvalue = [16, 11]\\nclass = Died'),\n",
              " Text(0.04895104895104895, 0.4375, 'gini = 0.0\\nsamples = 1\\nvalue = [0, 1]\\nclass = Survived'),\n",
              " Text(0.06293706293706294, 0.4375, 'Age <= 57.0\\ngini = 0.473\\nsamples = 26\\nvalue = [16, 10]\\nclass = Died'),\n",
              " Text(0.055944055944055944, 0.3958333333333333, 'Age <= 47.5\\ngini = 0.486\\nsamples = 24\\nvalue = [14, 10]\\nclass = Died'),\n",
              " Text(0.03496503496503497, 0.3541666666666667, 'Fare <= 29.1\\ngini = 0.444\\nsamples = 18\\nvalue = [12, 6]\\nclass = Died'),\n",
              " Text(0.013986013986013986, 0.3125, 'Age <= 37.5\\ngini = 0.245\\nsamples = 7\\nvalue = [6, 1]\\nclass = Died'),\n",
              " Text(0.006993006993006993, 0.2708333333333333, 'gini = 0.0\\nsamples = 4\\nvalue = [4, 0]\\nclass = Died'),\n",
              " Text(0.02097902097902098, 0.2708333333333333, 'Fare <= 27.525\\ngini = 0.444\\nsamples = 3\\nvalue = [2, 1]\\nclass = Died'),\n",
              " Text(0.013986013986013986, 0.22916666666666666, 'gini = 0.5\\nsamples = 2\\nvalue = [1, 1]\\nclass = Died'),\n",
              " Text(0.027972027972027972, 0.22916666666666666, 'gini = 0.0\\nsamples = 1\\nvalue = [1, 0]\\nclass = Died'),\n",
              " Text(0.055944055944055944, 0.3125, 'Age <= 34.5\\ngini = 0.496\\nsamples = 11\\nvalue = [6, 5]\\nclass = Died'),\n",
              " Text(0.04895104895104895, 0.2708333333333333, 'Age <= 29.35\\ngini = 0.469\\nsamples = 8\\nvalue = [3, 5]\\nclass = Survived'),\n",
              " Text(0.04195804195804196, 0.22916666666666666, 'gini = 0.0\\nsamples = 1\\nvalue = [1, 0]\\nclass = Died'),\n",
              " Text(0.055944055944055944, 0.22916666666666666, 'Fare <= 30.75\\ngini = 0.408\\nsamples = 7\\nvalue = [2, 5]\\nclass = Survived'),\n",
              " Text(0.04895104895104895, 0.1875, 'gini = 0.0\\nsamples = 4\\nvalue = [0, 4]\\nclass = Survived'),\n",
              " Text(0.06293706293706294, 0.1875, 'Fare <= 35.25\\ngini = 0.444\\nsamples = 3\\nvalue = [2, 1]\\nclass = Died'),\n",
              " Text(0.055944055944055944, 0.14583333333333334, 'gini = 0.0\\nsamples = 2\\nvalue = [2, 0]\\nclass = Died'),\n",
              " Text(0.06993006993006994, 0.14583333333333334, 'gini = 0.0\\nsamples = 1\\nvalue = [0, 1]\\nclass = Survived'),\n",
              " Text(0.06293706293706294, 0.2708333333333333, 'gini = 0.0\\nsamples = 3\\nvalue = [3, 0]\\nclass = Died'),\n",
              " Text(0.07692307692307693, 0.3541666666666667, 'Age <= 53.5\\ngini = 0.444\\nsamples = 6\\nvalue = [2, 4]\\nclass = Survived'),\n",
              " Text(0.06993006993006994, 0.3125, 'gini = 0.0\\nsamples = 3\\nvalue = [0, 3]\\nclass = Survived'),\n",
              " Text(0.08391608391608392, 0.3125, 'Fare <= 33.0\\ngini = 0.444\\nsamples = 3\\nvalue = [2, 1]\\nclass = Died'),\n",
              " Text(0.07692307692307693, 0.2708333333333333, 'gini = 0.0\\nsamples = 2\\nvalue = [2, 0]\\nclass = Died'),\n",
              " Text(0.09090909090909091, 0.2708333333333333, 'gini = 0.0\\nsamples = 1\\nvalue = [0, 1]\\nclass = Survived'),\n",
              " Text(0.06993006993006994, 0.3958333333333333, 'gini = 0.0\\nsamples = 2\\nvalue = [2, 0]\\nclass = Died'),\n",
              " Text(0.13286713286713286, 0.4791666666666667, 'SibSp <= 0.5\\ngini = 0.328\\nsamples = 29\\nvalue = [23, 6]\\nclass = Died'),\n",
              " Text(0.1258741258741259, 0.4375, 'gini = 0.0\\nsamples = 11\\nvalue = [11, 0]\\nclass = Died'),\n",
              " Text(0.13986013986013987, 0.4375, 'Age <= 56.0\\ngini = 0.444\\nsamples = 18\\nvalue = [12, 6]\\nclass = Died'),\n",
              " Text(0.13286713286713286, 0.3958333333333333, 'Age <= 49.5\\ngini = 0.415\\nsamples = 17\\nvalue = [12, 5]\\nclass = Died'),\n",
              " Text(0.1258741258741259, 0.3541666666666667, 'Age <= 47.0\\ngini = 0.459\\nsamples = 14\\nvalue = [9, 5]\\nclass = Died'),\n",
              " Text(0.11188811188811189, 0.3125, 'Parch <= 0.5\\ngini = 0.397\\nsamples = 11\\nvalue = [8, 3]\\nclass = Died'),\n",
              " Text(0.1048951048951049, 0.2708333333333333, 'Age <= 40.0\\ngini = 0.32\\nsamples = 10\\nvalue = [8, 2]\\nclass = Died'),\n",
              " Text(0.0979020979020979, 0.22916666666666666, 'Fare <= 86.085\\ngini = 0.444\\nsamples = 6\\nvalue = [4, 2]\\nclass = Died'),\n",
              " Text(0.09090909090909091, 0.1875, 'Fare <= 61.8\\ngini = 0.32\\nsamples = 5\\nvalue = [4, 1]\\nclass = Died'),\n",
              " Text(0.08391608391608392, 0.14583333333333334, 'Fare <= 54.5\\ngini = 0.5\\nsamples = 2\\nvalue = [1, 1]\\nclass = Died'),\n",
              " Text(0.07692307692307693, 0.10416666666666667, 'gini = 0.0\\nsamples = 1\\nvalue = [1, 0]\\nclass = Died'),\n",
              " Text(0.09090909090909091, 0.10416666666666667, 'gini = 0.0\\nsamples = 1\\nvalue = [0, 1]\\nclass = Survived'),\n",
              " Text(0.0979020979020979, 0.14583333333333334, 'gini = 0.0\\nsamples = 3\\nvalue = [3, 0]\\nclass = Died'),\n",
              " Text(0.1048951048951049, 0.1875, 'gini = 0.0\\nsamples = 1\\nvalue = [0, 1]\\nclass = Survived'),\n",
              " Text(0.11188811188811189, 0.22916666666666666, 'gini = 0.0\\nsamples = 4\\nvalue = [4, 0]\\nclass = Died'),\n",
              " Text(0.11888111888111888, 0.2708333333333333, 'gini = 0.0\\nsamples = 1\\nvalue = [0, 1]\\nclass = Survived'),\n",
              " Text(0.13986013986013987, 0.3125, 'Fare <= 99.994\\ngini = 0.444\\nsamples = 3\\nvalue = [1, 2]\\nclass = Survived'),\n",
              " Text(0.13286713286713286, 0.2708333333333333, 'gini = 0.0\\nsamples = 2\\nvalue = [0, 2]\\nclass = Survived'),\n",
              " Text(0.14685314685314685, 0.2708333333333333, 'gini = 0.0\\nsamples = 1\\nvalue = [1, 0]\\nclass = Died'),\n",
              " Text(0.13986013986013987, 0.3541666666666667, 'gini = 0.0\\nsamples = 3\\nvalue = [3, 0]\\nclass = Died'),\n",
              " Text(0.14685314685314685, 0.3958333333333333, 'gini = 0.0\\nsamples = 1\\nvalue = [0, 1]\\nclass = Survived'),\n",
              " Text(0.10839160839160839, 0.5208333333333334, 'gini = 0.0\\nsamples = 5\\nvalue = [5, 0]\\nclass = Died'),\n",
              " Text(0.11538461538461539, 0.5625, 'gini = 0.0\\nsamples = 1\\nvalue = [0, 1]\\nclass = Survived'),\n",
              " Text(0.12237762237762238, 0.6041666666666666, 'gini = 0.0\\nsamples = 2\\nvalue = [0, 2]\\nclass = Survived'),\n",
              " Text(0.10839160839160839, 0.7291666666666666, 'gini = 0.0\\nsamples = 7\\nvalue = [7, 0]\\nclass = Died'),\n",
              " Text(0.10839160839160839, 0.8125, 'gini = 0.0\\nsamples = 2\\nvalue = [0, 2]\\nclass = Survived'),\n",
              " Text(0.5075666520979021, 0.8541666666666666, 'Fare <= 51.698\\ngini = 0.209\\nsamples = 354\\nvalue = [312, 42]\\nclass = Died'),\n",
              " Text(0.44869973776223776, 0.8125, 'Age <= 32.25\\ngini = 0.198\\nsamples = 341\\nvalue = [303, 38]\\nclass = Died'),\n",
              " Text(0.38690996503496505, 0.7708333333333334, 'Age <= 31.5\\ngini = 0.228\\nsamples = 251\\nvalue = [218, 33]\\nclass = Died'),\n",
              " Text(0.33326048951048953, 0.7291666666666666, 'Age <= 13.0\\ngini = 0.212\\nsamples = 241\\nvalue = [212, 29]\\nclass = Died'),\n",
              " Text(0.3192744755244755, 0.6875, 'SibSp <= 2.5\\ngini = 0.42\\nsamples = 10\\nvalue = [7, 3]\\nclass = Died'),\n",
              " Text(0.31228146853146854, 0.6458333333333334, 'SibSp <= 0.5\\ngini = 0.375\\nsamples = 4\\nvalue = [1, 3]\\nclass = Survived'),\n",
              " Text(0.30528846153846156, 0.6041666666666666, 'gini = 0.0\\nsamples = 1\\nvalue = [1, 0]\\nclass = Died'),\n",
              " Text(0.3192744755244755, 0.6041666666666666, 'gini = 0.0\\nsamples = 3\\nvalue = [0, 3]\\nclass = Survived'),\n",
              " Text(0.3262674825174825, 0.6458333333333334, 'gini = 0.0\\nsamples = 6\\nvalue = [6, 0]\\nclass = Died'),\n",
              " Text(0.3472465034965035, 0.6875, 'Fare <= 23.35\\ngini = 0.2\\nsamples = 231\\nvalue = [205, 26]\\nclass = Died'),\n",
              " Text(0.3402534965034965, 0.6458333333333334, 'Fare <= 22.887\\ngini = 0.213\\nsamples = 214\\nvalue = [188, 26]\\nclass = Died'),\n",
              " Text(0.33326048951048953, 0.6041666666666666, 'Age <= 29.35\\ngini = 0.207\\nsamples = 213\\nvalue = [188, 25]\\nclass = Died'),\n",
              " Text(0.26617132867132864, 0.5625, 'Age <= 28.75\\ngini = 0.243\\nsamples = 127\\nvalue = [109, 18]\\nclass = Died'),\n",
              " Text(0.21765734265734266, 0.5208333333333334, 'Fare <= 7.24\\ngini = 0.219\\nsamples = 120\\nvalue = [105, 15]\\nclass = Died'),\n",
              " Text(0.16083916083916083, 0.4791666666666667, 'Age <= 19.5\\ngini = 0.401\\nsamples = 18\\nvalue = [13, 5]\\nclass = Died'),\n",
              " Text(0.15384615384615385, 0.4375, 'gini = 0.0\\nsamples = 5\\nvalue = [5, 0]\\nclass = Died'),\n",
              " Text(0.16783216783216784, 0.4375, 'Fare <= 2.006\\ngini = 0.473\\nsamples = 13\\nvalue = [8, 5]\\nclass = Died'),\n",
              " Text(0.16083916083916083, 0.3958333333333333, 'gini = 0.0\\nsamples = 1\\nvalue = [0, 1]\\nclass = Survived'),\n",
              " Text(0.17482517482517482, 0.3958333333333333, 'Fare <= 7.133\\ngini = 0.444\\nsamples = 12\\nvalue = [8, 4]\\nclass = Died'),\n",
              " Text(0.16083916083916083, 0.3541666666666667, 'Age <= 26.0\\ngini = 0.278\\nsamples = 6\\nvalue = [5, 1]\\nclass = Died'),\n",
              " Text(0.15384615384615385, 0.3125, 'gini = 0.0\\nsamples = 5\\nvalue = [5, 0]\\nclass = Died'),\n",
              " Text(0.16783216783216784, 0.3125, 'gini = 0.0\\nsamples = 1\\nvalue = [0, 1]\\nclass = Survived'),\n",
              " Text(0.1888111888111888, 0.3541666666666667, 'Age <= 24.5\\ngini = 0.5\\nsamples = 6\\nvalue = [3, 3]\\nclass = Died'),\n",
              " Text(0.18181818181818182, 0.3125, 'Fare <= 7.227\\ngini = 0.375\\nsamples = 4\\nvalue = [1, 3]\\nclass = Survived'),\n",
              " Text(0.17482517482517482, 0.2708333333333333, 'gini = 0.0\\nsamples = 2\\nvalue = [0, 2]\\nclass = Survived'),\n",
              " Text(0.1888111888111888, 0.2708333333333333, 'Age <= 21.0\\ngini = 0.5\\nsamples = 2\\nvalue = [1, 1]\\nclass = Died'),\n",
              " Text(0.18181818181818182, 0.22916666666666666, 'gini = 0.0\\nsamples = 1\\nvalue = [0, 1]\\nclass = Survived'),\n",
              " Text(0.1958041958041958, 0.22916666666666666, 'gini = 0.0\\nsamples = 1\\nvalue = [1, 0]\\nclass = Died'),\n",
              " Text(0.1958041958041958, 0.3125, 'gini = 0.0\\nsamples = 2\\nvalue = [2, 0]\\nclass = Died'),\n",
              " Text(0.2744755244755245, 0.4791666666666667, 'SibSp <= 0.5\\ngini = 0.177\\nsamples = 102\\nvalue = [92, 10]\\nclass = Died'),\n",
              " Text(0.24825174825174826, 0.4375, 'Fare <= 17.444\\ngini = 0.15\\nsamples = 86\\nvalue = [79, 7]\\nclass = Died'),\n",
              " Text(0.23076923076923078, 0.3958333333333333, 'Age <= 26.5\\ngini = 0.133\\nsamples = 84\\nvalue = [78, 6]\\nclass = Died'),\n",
              " Text(0.21678321678321677, 0.3541666666666667, 'Age <= 21.5\\ngini = 0.104\\nsamples = 73\\nvalue = [69, 4]\\nclass = Died'),\n",
              " Text(0.2097902097902098, 0.3125, 'Fare <= 7.785\\ngini = 0.176\\nsamples = 41\\nvalue = [37, 4]\\nclass = Died'),\n",
              " Text(0.20279720279720279, 0.2708333333333333, 'gini = 0.0\\nsamples = 7\\nvalue = [7, 0]\\nclass = Died'),\n",
              " Text(0.21678321678321677, 0.2708333333333333, 'Fare <= 7.798\\ngini = 0.208\\nsamples = 34\\nvalue = [30, 4]\\nclass = Died'),\n",
              " Text(0.2097902097902098, 0.22916666666666666, 'gini = 0.0\\nsamples = 1\\nvalue = [0, 1]\\nclass = Survived'),\n",
              " Text(0.22377622377622378, 0.22916666666666666, 'Age <= 19.5\\ngini = 0.165\\nsamples = 33\\nvalue = [30, 3]\\nclass = Died'),\n",
              " Text(0.21678321678321677, 0.1875, 'Fare <= 8.175\\ngini = 0.245\\nsamples = 21\\nvalue = [18, 3]\\nclass = Died'),\n",
              " Text(0.20279720279720279, 0.14583333333333334, 'Fare <= 7.973\\ngini = 0.444\\nsamples = 6\\nvalue = [4, 2]\\nclass = Died'),\n",
              " Text(0.1958041958041958, 0.10416666666666667, 'gini = 0.0\\nsamples = 2\\nvalue = [2, 0]\\nclass = Died'),\n",
              " Text(0.2097902097902098, 0.10416666666666667, 'Age <= 17.5\\ngini = 0.5\\nsamples = 4\\nvalue = [2, 2]\\nclass = Died'),\n",
              " Text(0.20279720279720279, 0.0625, 'gini = 0.5\\nsamples = 2\\nvalue = [1, 1]\\nclass = Died'),\n",
              " Text(0.21678321678321677, 0.0625, 'gini = 0.5\\nsamples = 2\\nvalue = [1, 1]\\nclass = Died'),\n",
              " Text(0.23076923076923078, 0.14583333333333334, 'Age <= 18.5\\ngini = 0.124\\nsamples = 15\\nvalue = [14, 1]\\nclass = Died'),\n",
              " Text(0.22377622377622378, 0.10416666666666667, 'gini = 0.0\\nsamples = 10\\nvalue = [10, 0]\\nclass = Died'),\n",
              " Text(0.23776223776223776, 0.10416666666666667, 'Fare <= 11.75\\ngini = 0.32\\nsamples = 5\\nvalue = [4, 1]\\nclass = Died'),\n",
              " Text(0.23076923076923078, 0.0625, 'Fare <= 10.335\\ngini = 0.444\\nsamples = 3\\nvalue = [2, 1]\\nclass = Died'),\n",
              " Text(0.22377622377622378, 0.020833333333333332, 'gini = 0.0\\nsamples = 1\\nvalue = [1, 0]\\nclass = Died'),\n",
              " Text(0.23776223776223776, 0.020833333333333332, 'gini = 0.5\\nsamples = 2\\nvalue = [1, 1]\\nclass = Died'),\n",
              " Text(0.24475524475524477, 0.0625, 'gini = 0.0\\nsamples = 2\\nvalue = [2, 0]\\nclass = Died'),\n",
              " Text(0.23076923076923078, 0.1875, 'gini = 0.0\\nsamples = 12\\nvalue = [12, 0]\\nclass = Died'),\n",
              " Text(0.22377622377622378, 0.3125, 'gini = 0.0\\nsamples = 32\\nvalue = [32, 0]\\nclass = Died'),\n",
              " Text(0.24475524475524477, 0.3541666666666667, 'Age <= 27.5\\ngini = 0.298\\nsamples = 11\\nvalue = [9, 2]\\nclass = Died'),\n",
              " Text(0.23776223776223776, 0.3125, 'Pclass <= 2.5\\ngini = 0.444\\nsamples = 3\\nvalue = [1, 2]\\nclass = Survived'),\n",
              " Text(0.23076923076923078, 0.2708333333333333, 'gini = 0.0\\nsamples = 1\\nvalue = [1, 0]\\nclass = Died'),\n",
              " Text(0.24475524475524477, 0.2708333333333333, 'gini = 0.0\\nsamples = 2\\nvalue = [0, 2]\\nclass = Survived'),\n",
              " Text(0.2517482517482518, 0.3125, 'gini = 0.0\\nsamples = 8\\nvalue = [8, 0]\\nclass = Died'),\n",
              " Text(0.26573426573426573, 0.3958333333333333, 'Age <= 27.0\\ngini = 0.5\\nsamples = 2\\nvalue = [1, 1]\\nclass = Died'),\n",
              " Text(0.25874125874125875, 0.3541666666666667, 'gini = 0.0\\nsamples = 1\\nvalue = [0, 1]\\nclass = Survived'),\n",
              " Text(0.2727272727272727, 0.3541666666666667, 'gini = 0.0\\nsamples = 1\\nvalue = [1, 0]\\nclass = Died'),\n",
              " Text(0.3006993006993007, 0.4375, 'Fare <= 15.796\\ngini = 0.305\\nsamples = 16\\nvalue = [13, 3]\\nclass = Died'),\n",
              " Text(0.2937062937062937, 0.3958333333333333, 'Age <= 25.5\\ngini = 0.42\\nsamples = 10\\nvalue = [7, 3]\\nclass = Died'),\n",
              " Text(0.2867132867132867, 0.3541666666666667, 'Pclass <= 2.5\\ngini = 0.5\\nsamples = 6\\nvalue = [3, 3]\\nclass = Died'),\n",
              " Text(0.27972027972027974, 0.3125, 'gini = 0.0\\nsamples = 1\\nvalue = [1, 0]\\nclass = Died'),\n",
              " Text(0.2937062937062937, 0.3125, 'Fare <= 7.89\\ngini = 0.48\\nsamples = 5\\nvalue = [2, 3]\\nclass = Survived'),\n",
              " Text(0.2867132867132867, 0.2708333333333333, 'Age <= 23.5\\ngini = 0.444\\nsamples = 3\\nvalue = [2, 1]\\nclass = Died'),\n",
              " Text(0.27972027972027974, 0.22916666666666666, 'gini = 0.0\\nsamples = 2\\nvalue = [2, 0]\\nclass = Died'),\n",
              " Text(0.2937062937062937, 0.22916666666666666, 'gini = 0.0\\nsamples = 1\\nvalue = [0, 1]\\nclass = Survived'),\n",
              " Text(0.3006993006993007, 0.2708333333333333, 'gini = 0.0\\nsamples = 2\\nvalue = [0, 2]\\nclass = Survived'),\n",
              " Text(0.3006993006993007, 0.3541666666666667, 'gini = 0.0\\nsamples = 4\\nvalue = [4, 0]\\nclass = Died'),\n",
              " Text(0.3076923076923077, 0.3958333333333333, 'gini = 0.0\\nsamples = 6\\nvalue = [6, 0]\\nclass = Died'),\n",
              " Text(0.3146853146853147, 0.5208333333333334, 'Fare <= 7.973\\ngini = 0.49\\nsamples = 7\\nvalue = [4, 3]\\nclass = Died'),\n",
              " Text(0.3076923076923077, 0.4791666666666667, 'gini = 0.0\\nsamples = 2\\nvalue = [0, 2]\\nclass = Survived'),\n",
              " Text(0.32167832167832167, 0.4791666666666667, 'Pclass <= 2.5\\ngini = 0.32\\nsamples = 5\\nvalue = [4, 1]\\nclass = Died'),\n",
              " Text(0.3146853146853147, 0.4375, 'gini = 0.0\\nsamples = 2\\nvalue = [2, 0]\\nclass = Died'),\n",
              " Text(0.32867132867132864, 0.4375, 'Fare <= 9.492\\ngini = 0.444\\nsamples = 3\\nvalue = [2, 1]\\nclass = Died'),\n",
              " Text(0.32167832167832167, 0.3958333333333333, 'gini = 0.0\\nsamples = 2\\nvalue = [2, 0]\\nclass = Died'),\n",
              " Text(0.3356643356643357, 0.3958333333333333, 'gini = 0.0\\nsamples = 1\\nvalue = [0, 1]\\nclass = Survived'),\n",
              " Text(0.40034965034965037, 0.5625, 'Age <= 30.5\\ngini = 0.15\\nsamples = 86\\nvalue = [79, 7]\\nclass = Died'),\n",
              " Text(0.3811188811188811, 0.5208333333333334, 'Fare <= 8.081\\ngini = 0.134\\nsamples = 83\\nvalue = [77, 6]\\nclass = Died'),\n",
              " Text(0.36363636363636365, 0.4791666666666667, 'Fare <= 7.802\\ngini = 0.091\\nsamples = 63\\nvalue = [60, 3]\\nclass = Died'),\n",
              " Text(0.35664335664335667, 0.4375, 'Fare <= 7.763\\ngini = 0.153\\nsamples = 36\\nvalue = [33, 3]\\nclass = Died'),\n",
              " Text(0.34965034965034963, 0.3958333333333333, 'Fare <= 7.227\\ngini = 0.111\\nsamples = 34\\nvalue = [32, 2]\\nclass = Died'),\n",
              " Text(0.34265734265734266, 0.3541666666666667, 'gini = 0.0\\nsamples = 11\\nvalue = [11, 0]\\nclass = Died'),\n",
              " Text(0.35664335664335667, 0.3541666666666667, 'Fare <= 7.24\\ngini = 0.159\\nsamples = 23\\nvalue = [21, 2]\\nclass = Died'),\n",
              " Text(0.34265734265734266, 0.3125, 'Age <= 29.85\\ngini = 0.245\\nsamples = 7\\nvalue = [6, 1]\\nclass = Died'),\n",
              " Text(0.3356643356643357, 0.2708333333333333, 'gini = 0.278\\nsamples = 6\\nvalue = [5, 1]\\nclass = Died'),\n",
              " Text(0.34965034965034963, 0.2708333333333333, 'gini = 0.0\\nsamples = 1\\nvalue = [1, 0]\\nclass = Died'),\n",
              " Text(0.3706293706293706, 0.3125, 'Fare <= 7.742\\ngini = 0.117\\nsamples = 16\\nvalue = [15, 1]\\nclass = Died'),\n",
              " Text(0.36363636363636365, 0.2708333333333333, 'gini = 0.0\\nsamples = 7\\nvalue = [7, 0]\\nclass = Died'),\n",
              " Text(0.3776223776223776, 0.2708333333333333, 'SibSp <= 0.5\\ngini = 0.198\\nsamples = 9\\nvalue = [8, 1]\\nclass = Died'),\n",
              " Text(0.3706293706293706, 0.22916666666666666, 'gini = 0.219\\nsamples = 8\\nvalue = [7, 1]\\nclass = Died'),\n",
              " Text(0.38461538461538464, 0.22916666666666666, 'gini = 0.0\\nsamples = 1\\nvalue = [1, 0]\\nclass = Died'),\n",
              " Text(0.36363636363636365, 0.3958333333333333, 'gini = 0.5\\nsamples = 2\\nvalue = [1, 1]\\nclass = Died'),\n",
              " Text(0.3706293706293706, 0.4375, 'gini = 0.0\\nsamples = 27\\nvalue = [27, 0]\\nclass = Died'),\n",
              " Text(0.3986013986013986, 0.4791666666666667, 'Fare <= 8.388\\ngini = 0.255\\nsamples = 20\\nvalue = [17, 3]\\nclass = Died'),\n",
              " Text(0.3916083916083916, 0.4375, 'gini = 0.0\\nsamples = 1\\nvalue = [0, 1]\\nclass = Survived'),\n",
              " Text(0.40559440559440557, 0.4375, 'Pclass <= 2.5\\ngini = 0.188\\nsamples = 19\\nvalue = [17, 2]\\nclass = Died'),\n",
              " Text(0.3986013986013986, 0.3958333333333333, 'Age <= 29.85\\ngini = 0.444\\nsamples = 6\\nvalue = [4, 2]\\nclass = Died'),\n",
              " Text(0.3916083916083916, 0.3541666666666667, 'Fare <= 14.456\\ngini = 0.444\\nsamples = 3\\nvalue = [1, 2]\\nclass = Survived'),\n",
              " Text(0.38461538461538464, 0.3125, 'gini = 0.0\\nsamples = 2\\nvalue = [0, 2]\\nclass = Survived'),\n",
              " Text(0.3986013986013986, 0.3125, 'gini = 0.0\\nsamples = 1\\nvalue = [1, 0]\\nclass = Died'),\n",
              " Text(0.40559440559440557, 0.3541666666666667, 'gini = 0.0\\nsamples = 3\\nvalue = [3, 0]\\nclass = Died'),\n",
              " Text(0.4125874125874126, 0.3958333333333333, 'gini = 0.0\\nsamples = 13\\nvalue = [13, 0]\\nclass = Died'),\n",
              " Text(0.4195804195804196, 0.5208333333333334, 'Fare <= 7.85\\ngini = 0.444\\nsamples = 3\\nvalue = [2, 1]\\nclass = Died'),\n",
              " Text(0.4125874125874126, 0.4791666666666667, 'gini = 0.0\\nsamples = 2\\nvalue = [2, 0]\\nclass = Died'),\n",
              " Text(0.42657342657342656, 0.4791666666666667, 'gini = 0.0\\nsamples = 1\\nvalue = [0, 1]\\nclass = Survived'),\n",
              " Text(0.3472465034965035, 0.6041666666666666, 'gini = 0.0\\nsamples = 1\\nvalue = [0, 1]\\nclass = Survived'),\n",
              " Text(0.35423951048951047, 0.6458333333333334, 'gini = 0.0\\nsamples = 17\\nvalue = [17, 0]\\nclass = Died'),\n",
              " Text(0.4405594405594406, 0.7291666666666666, 'Pclass <= 2.5\\ngini = 0.48\\nsamples = 10\\nvalue = [6, 4]\\nclass = Died'),\n",
              " Text(0.43356643356643354, 0.6875, 'gini = 0.0\\nsamples = 1\\nvalue = [0, 1]\\nclass = Survived'),\n",
              " Text(0.44755244755244755, 0.6875, 'Fare <= 8.206\\ngini = 0.444\\nsamples = 9\\nvalue = [6, 3]\\nclass = Died'),\n",
              " Text(0.4405594405594406, 0.6458333333333334, 'Fare <= 7.988\\ngini = 0.49\\nsamples = 7\\nvalue = [4, 3]\\nclass = Died'),\n",
              " Text(0.43356643356643354, 0.6041666666666666, 'Fare <= 7.802\\ngini = 0.444\\nsamples = 6\\nvalue = [4, 2]\\nclass = Died'),\n",
              " Text(0.42657342657342656, 0.5625, 'gini = 0.0\\nsamples = 1\\nvalue = [1, 0]\\nclass = Died'),\n",
              " Text(0.4405594405594406, 0.5625, 'Fare <= 7.875\\ngini = 0.48\\nsamples = 5\\nvalue = [3, 2]\\nclass = Died'),\n",
              " Text(0.43356643356643354, 0.5208333333333334, 'gini = 0.0\\nsamples = 1\\nvalue = [0, 1]\\nclass = Survived'),\n",
              " Text(0.44755244755244755, 0.5208333333333334, 'Fare <= 7.91\\ngini = 0.375\\nsamples = 4\\nvalue = [3, 1]\\nclass = Died'),\n",
              " Text(0.4405594405594406, 0.4791666666666667, 'gini = 0.0\\nsamples = 1\\nvalue = [1, 0]\\nclass = Died'),\n",
              " Text(0.45454545454545453, 0.4791666666666667, 'gini = 0.444\\nsamples = 3\\nvalue = [2, 1]\\nclass = Died'),\n",
              " Text(0.44755244755244755, 0.6041666666666666, 'gini = 0.0\\nsamples = 1\\nvalue = [0, 1]\\nclass = Survived'),\n",
              " Text(0.45454545454545453, 0.6458333333333334, 'gini = 0.0\\nsamples = 2\\nvalue = [2, 0]\\nclass = Died'),\n",
              " Text(0.5104895104895105, 0.7708333333333334, 'Age <= 61.5\\ngini = 0.105\\nsamples = 90\\nvalue = [85, 5]\\nclass = Died'),\n",
              " Text(0.4965034965034965, 0.7291666666666666, 'Fare <= 13.25\\ngini = 0.089\\nsamples = 86\\nvalue = [82, 4]\\nclass = Died'),\n",
              " Text(0.48951048951048953, 0.6875, 'Fare <= 12.762\\ngini = 0.128\\nsamples = 58\\nvalue = [54, 4]\\nclass = Died'),\n",
              " Text(0.46853146853146854, 0.6458333333333334, 'Fare <= 7.91\\ngini = 0.078\\nsamples = 49\\nvalue = [47, 2]\\nclass = Died'),\n",
              " Text(0.46153846153846156, 0.6041666666666666, 'gini = 0.0\\nsamples = 25\\nvalue = [25, 0]\\nclass = Died'),\n",
              " Text(0.4755244755244755, 0.6041666666666666, 'Fare <= 7.988\\ngini = 0.153\\nsamples = 24\\nvalue = [22, 2]\\nclass = Died'),\n",
              " Text(0.46853146853146854, 0.5625, 'Age <= 38.0\\ngini = 0.5\\nsamples = 4\\nvalue = [2, 2]\\nclass = Died'),\n",
              " Text(0.46153846153846156, 0.5208333333333334, 'gini = 0.0\\nsamples = 1\\nvalue = [1, 0]\\nclass = Died'),\n",
              " Text(0.4755244755244755, 0.5208333333333334, 'Age <= 41.5\\ngini = 0.444\\nsamples = 3\\nvalue = [1, 2]\\nclass = Survived'),\n",
              " Text(0.46853146853146854, 0.4791666666666667, 'gini = 0.5\\nsamples = 2\\nvalue = [1, 1]\\nclass = Died'),\n",
              " Text(0.4825174825174825, 0.4791666666666667, 'gini = 0.0\\nsamples = 1\\nvalue = [0, 1]\\nclass = Survived'),\n",
              " Text(0.4825174825174825, 0.5625, 'gini = 0.0\\nsamples = 20\\nvalue = [20, 0]\\nclass = Died'),\n",
              " Text(0.5104895104895105, 0.6458333333333334, 'Age <= 45.0\\ngini = 0.346\\nsamples = 9\\nvalue = [7, 2]\\nclass = Died'),\n",
              " Text(0.5034965034965035, 0.6041666666666666, 'Age <= 40.5\\ngini = 0.444\\nsamples = 6\\nvalue = [4, 2]\\nclass = Died'),\n",
              " Text(0.4965034965034965, 0.5625, 'Age <= 36.5\\ngini = 0.375\\nsamples = 4\\nvalue = [3, 1]\\nclass = Died'),\n",
              " Text(0.48951048951048953, 0.5208333333333334, 'gini = 0.444\\nsamples = 3\\nvalue = [2, 1]\\nclass = Died'),\n",
              " Text(0.5034965034965035, 0.5208333333333334, 'gini = 0.0\\nsamples = 1\\nvalue = [1, 0]\\nclass = Died'),\n",
              " Text(0.5104895104895105, 0.5625, 'gini = 0.5\\nsamples = 2\\nvalue = [1, 1]\\nclass = Died'),\n",
              " Text(0.5174825174825175, 0.6041666666666666, 'gini = 0.0\\nsamples = 3\\nvalue = [3, 0]\\nclass = Died'),\n",
              " Text(0.5034965034965035, 0.6875, 'gini = 0.0\\nsamples = 28\\nvalue = [28, 0]\\nclass = Died'),\n",
              " Text(0.5244755244755245, 0.7291666666666666, 'Age <= 66.0\\ngini = 0.375\\nsamples = 4\\nvalue = [3, 1]\\nclass = Died'),\n",
              " Text(0.5174825174825175, 0.6875, 'gini = 0.0\\nsamples = 1\\nvalue = [0, 1]\\nclass = Survived'),\n",
              " Text(0.5314685314685315, 0.6875, 'gini = 0.0\\nsamples = 3\\nvalue = [3, 0]\\nclass = Died'),\n",
              " Text(0.5664335664335665, 0.8125, 'Fare <= 63.023\\ngini = 0.426\\nsamples = 13\\nvalue = [9, 4]\\nclass = Died'),\n",
              " Text(0.5594405594405595, 0.7708333333333334, 'Age <= 30.85\\ngini = 0.444\\nsamples = 6\\nvalue = [2, 4]\\nclass = Survived'),\n",
              " Text(0.5524475524475524, 0.7291666666666666, 'Age <= 27.0\\ngini = 0.5\\nsamples = 4\\nvalue = [2, 2]\\nclass = Died'),\n",
              " Text(0.5454545454545454, 0.6875, 'gini = 0.0\\nsamples = 1\\nvalue = [0, 1]\\nclass = Survived'),\n",
              " Text(0.5594405594405595, 0.6875, 'Age <= 28.85\\ngini = 0.444\\nsamples = 3\\nvalue = [2, 1]\\nclass = Died'),\n",
              " Text(0.5524475524475524, 0.6458333333333334, 'gini = 0.0\\nsamples = 1\\nvalue = [1, 0]\\nclass = Died'),\n",
              " Text(0.5664335664335665, 0.6458333333333334, 'gini = 0.5\\nsamples = 2\\nvalue = [1, 1]\\nclass = Died'),\n",
              " Text(0.5664335664335665, 0.7291666666666666, 'gini = 0.0\\nsamples = 2\\nvalue = [0, 2]\\nclass = Survived'),\n",
              " Text(0.5734265734265734, 0.7708333333333334, 'gini = 0.0\\nsamples = 7\\nvalue = [7, 0]\\nclass = Died'),\n",
              " Text(0.7651879370629371, 0.9375, 'Pclass <= 2.5\\ngini = 0.386\\nsamples = 245\\nvalue = [64, 181]\\nclass = Survived'),\n",
              " Text(0.6066433566433567, 0.8958333333333334, 'Age <= 2.5\\ngini = 0.074\\nsamples = 130\\nvalue = [5, 125]\\nclass = Survived'),\n",
              " Text(0.5874125874125874, 0.8541666666666666, 'Parch <= 1.5\\ngini = 0.5\\nsamples = 2\\nvalue = [1, 1]\\nclass = Died'),\n",
              " Text(0.5804195804195804, 0.8125, 'gini = 0.0\\nsamples = 1\\nvalue = [0, 1]\\nclass = Survived'),\n",
              " Text(0.5944055944055944, 0.8125, 'gini = 0.0\\nsamples = 1\\nvalue = [1, 0]\\nclass = Died'),\n",
              " Text(0.6258741258741258, 0.8541666666666666, 'Age <= 27.5\\ngini = 0.061\\nsamples = 128\\nvalue = [4, 124]\\nclass = Survived'),\n",
              " Text(0.6083916083916084, 0.8125, 'Age <= 24.5\\ngini = 0.12\\nsamples = 47\\nvalue = [3, 44]\\nclass = Survived'),\n",
              " Text(0.5944055944055944, 0.7708333333333334, 'Fare <= 13.396\\ngini = 0.048\\nsamples = 41\\nvalue = [1, 40]\\nclass = Survived'),\n",
              " Text(0.5874125874125874, 0.7291666666666666, 'Age <= 22.5\\ngini = 0.375\\nsamples = 4\\nvalue = [1, 3]\\nclass = Survived'),\n",
              " Text(0.5804195804195804, 0.6875, 'gini = 0.0\\nsamples = 2\\nvalue = [0, 2]\\nclass = Survived'),\n",
              " Text(0.5944055944055944, 0.6875, 'gini = 0.5\\nsamples = 2\\nvalue = [1, 1]\\nclass = Died'),\n",
              " Text(0.6013986013986014, 0.7291666666666666, 'gini = 0.0\\nsamples = 37\\nvalue = [0, 37]\\nclass = Survived'),\n",
              " Text(0.6223776223776224, 0.7708333333333334, 'Fare <= 90.775\\ngini = 0.444\\nsamples = 6\\nvalue = [2, 4]\\nclass = Survived'),\n",
              " Text(0.6153846153846154, 0.7291666666666666, 'SibSp <= 0.5\\ngini = 0.32\\nsamples = 5\\nvalue = [1, 4]\\nclass = Survived'),\n",
              " Text(0.6083916083916084, 0.6875, 'gini = 0.0\\nsamples = 2\\nvalue = [0, 2]\\nclass = Survived'),\n",
              " Text(0.6223776223776224, 0.6875, 'Age <= 26.0\\ngini = 0.444\\nsamples = 3\\nvalue = [1, 2]\\nclass = Survived'),\n",
              " Text(0.6153846153846154, 0.6458333333333334, 'gini = 0.0\\nsamples = 1\\nvalue = [0, 1]\\nclass = Survived'),\n",
              " Text(0.6293706293706294, 0.6458333333333334, 'Fare <= 17.429\\ngini = 0.5\\nsamples = 2\\nvalue = [1, 1]\\nclass = Died'),\n",
              " Text(0.6223776223776224, 0.6041666666666666, 'gini = 0.0\\nsamples = 1\\nvalue = [0, 1]\\nclass = Survived'),\n",
              " Text(0.6363636363636364, 0.6041666666666666, 'gini = 0.0\\nsamples = 1\\nvalue = [1, 0]\\nclass = Died'),\n",
              " Text(0.6293706293706294, 0.7291666666666666, 'gini = 0.0\\nsamples = 1\\nvalue = [1, 0]\\nclass = Died'),\n",
              " Text(0.6433566433566433, 0.8125, 'Age <= 49.5\\ngini = 0.024\\nsamples = 81\\nvalue = [1, 80]\\nclass = Survived'),\n",
              " Text(0.6363636363636364, 0.7708333333333334, 'gini = 0.0\\nsamples = 65\\nvalue = [0, 65]\\nclass = Survived'),\n",
              " Text(0.6503496503496503, 0.7708333333333334, 'Age <= 50.5\\ngini = 0.117\\nsamples = 16\\nvalue = [1, 15]\\nclass = Survived'),\n",
              " Text(0.6433566433566433, 0.7291666666666666, 'Pclass <= 1.5\\ngini = 0.375\\nsamples = 4\\nvalue = [1, 3]\\nclass = Survived'),\n",
              " Text(0.6363636363636364, 0.6875, 'gini = 0.0\\nsamples = 1\\nvalue = [1, 0]\\nclass = Died'),\n",
              " Text(0.6503496503496503, 0.6875, 'gini = 0.0\\nsamples = 3\\nvalue = [0, 3]\\nclass = Survived'),\n",
              " Text(0.6573426573426573, 0.7291666666666666, 'gini = 0.0\\nsamples = 12\\nvalue = [0, 12]\\nclass = Survived'),\n",
              " Text(0.9237325174825175, 0.8958333333333334, 'Fare <= 23.35\\ngini = 0.5\\nsamples = 115\\nvalue = [59, 56]\\nclass = Died'),\n",
              " Text(0.861451048951049, 0.8541666666666666, 'Fare <= 15.373\\ngini = 0.486\\nsamples = 94\\nvalue = [39, 55]\\nclass = Survived'),\n",
              " Text(0.7788461538461539, 0.8125, 'Fare <= 8.04\\ngini = 0.499\\nsamples = 69\\nvalue = [33, 36]\\nclass = Survived'),\n",
              " Text(0.7115384615384616, 0.7708333333333334, 'Fare <= 7.744\\ngini = 0.438\\nsamples = 37\\nvalue = [12, 25]\\nclass = Survived'),\n",
              " Text(0.6713286713286714, 0.7291666666666666, 'Fare <= 6.987\\ngini = 0.26\\nsamples = 13\\nvalue = [2, 11]\\nclass = Survived'),\n",
              " Text(0.6643356643356644, 0.6875, 'gini = 0.0\\nsamples = 1\\nvalue = [1, 0]\\nclass = Died'),\n",
              " Text(0.6783216783216783, 0.6875, 'Age <= 26.35\\ngini = 0.153\\nsamples = 12\\nvalue = [1, 11]\\nclass = Survived'),\n",
              " Text(0.6713286713286714, 0.6458333333333334, 'gini = 0.0\\nsamples = 7\\nvalue = [0, 7]\\nclass = Survived'),\n",
              " Text(0.6853146853146853, 0.6458333333333334, 'Fare <= 7.429\\ngini = 0.32\\nsamples = 5\\nvalue = [1, 4]\\nclass = Survived'),\n",
              " Text(0.6783216783216783, 0.6041666666666666, 'gini = 0.0\\nsamples = 2\\nvalue = [0, 2]\\nclass = Survived'),\n",
              " Text(0.6923076923076923, 0.6041666666666666, 'Fare <= 7.681\\ngini = 0.444\\nsamples = 3\\nvalue = [1, 2]\\nclass = Survived'),\n",
              " Text(0.6853146853146853, 0.5625, 'gini = 0.0\\nsamples = 1\\nvalue = [1, 0]\\nclass = Died'),\n",
              " Text(0.6993006993006993, 0.5625, 'gini = 0.0\\nsamples = 2\\nvalue = [0, 2]\\nclass = Survived'),\n",
              " Text(0.7517482517482518, 0.7291666666666666, 'Age <= 25.5\\ngini = 0.486\\nsamples = 24\\nvalue = [10, 14]\\nclass = Survived'),\n",
              " Text(0.7342657342657343, 0.6875, 'Age <= 22.5\\ngini = 0.48\\nsamples = 10\\nvalue = [6, 4]\\nclass = Died'),\n",
              " Text(0.7272727272727273, 0.6458333333333334, 'Fare <= 7.89\\ngini = 0.49\\nsamples = 7\\nvalue = [3, 4]\\nclass = Survived'),\n",
              " Text(0.7202797202797203, 0.6041666666666666, 'Age <= 21.5\\ngini = 0.48\\nsamples = 5\\nvalue = [3, 2]\\nclass = Died'),\n",
              " Text(0.7132867132867133, 0.5625, 'gini = 0.0\\nsamples = 3\\nvalue = [3, 0]\\nclass = Died'),\n",
              " Text(0.7272727272727273, 0.5625, 'gini = 0.0\\nsamples = 2\\nvalue = [0, 2]\\nclass = Survived'),\n",
              " Text(0.7342657342657343, 0.6041666666666666, 'gini = 0.0\\nsamples = 2\\nvalue = [0, 2]\\nclass = Survived'),\n",
              " Text(0.7412587412587412, 0.6458333333333334, 'gini = 0.0\\nsamples = 3\\nvalue = [3, 0]\\nclass = Died'),\n",
              " Text(0.7692307692307693, 0.6875, 'Age <= 37.35\\ngini = 0.408\\nsamples = 14\\nvalue = [4, 10]\\nclass = Survived'),\n",
              " Text(0.7622377622377622, 0.6458333333333334, 'Parch <= 1.0\\ngini = 0.355\\nsamples = 13\\nvalue = [3, 10]\\nclass = Survived'),\n",
              " Text(0.7552447552447552, 0.6041666666666666, 'Fare <= 7.888\\ngini = 0.278\\nsamples = 12\\nvalue = [2, 10]\\nclass = Survived'),\n",
              " Text(0.7412587412587412, 0.5625, 'Fare <= 7.802\\ngini = 0.198\\nsamples = 9\\nvalue = [1, 8]\\nclass = Survived'),\n",
              " Text(0.7342657342657343, 0.5208333333333334, 'gini = 0.278\\nsamples = 6\\nvalue = [1, 5]\\nclass = Survived'),\n",
              " Text(0.7482517482517482, 0.5208333333333334, 'gini = 0.0\\nsamples = 3\\nvalue = [0, 3]\\nclass = Survived'),\n",
              " Text(0.7692307692307693, 0.5625, 'Fare <= 7.91\\ngini = 0.444\\nsamples = 3\\nvalue = [1, 2]\\nclass = Survived'),\n",
              " Text(0.7622377622377622, 0.5208333333333334, 'gini = 0.0\\nsamples = 1\\nvalue = [1, 0]\\nclass = Died'),\n",
              " Text(0.7762237762237763, 0.5208333333333334, 'gini = 0.0\\nsamples = 2\\nvalue = [0, 2]\\nclass = Survived'),\n",
              " Text(0.7692307692307693, 0.6041666666666666, 'gini = 0.0\\nsamples = 1\\nvalue = [1, 0]\\nclass = Died'),\n",
              " Text(0.7762237762237763, 0.6458333333333334, 'gini = 0.0\\nsamples = 1\\nvalue = [1, 0]\\nclass = Died'),\n",
              " Text(0.8461538461538461, 0.7708333333333334, 'Parch <= 0.5\\ngini = 0.451\\nsamples = 32\\nvalue = [21, 11]\\nclass = Died'),\n",
              " Text(0.8181818181818182, 0.7291666666666666, 'Age <= 55.0\\ngini = 0.32\\nsamples = 20\\nvalue = [16, 4]\\nclass = Died'),\n",
              " Text(0.8111888111888111, 0.6875, 'Age <= 29.85\\ngini = 0.266\\nsamples = 19\\nvalue = [16, 3]\\nclass = Died'),\n",
              " Text(0.7972027972027972, 0.6458333333333334, 'Age <= 19.0\\ngini = 0.142\\nsamples = 13\\nvalue = [12, 1]\\nclass = Died'),\n",
              " Text(0.7902097902097902, 0.6041666666666666, 'Age <= 17.5\\ngini = 0.444\\nsamples = 3\\nvalue = [2, 1]\\nclass = Died'),\n",
              " Text(0.7832167832167832, 0.5625, 'gini = 0.0\\nsamples = 2\\nvalue = [2, 0]\\nclass = Died'),\n",
              " Text(0.7972027972027972, 0.5625, 'gini = 0.0\\nsamples = 1\\nvalue = [0, 1]\\nclass = Survived'),\n",
              " Text(0.8041958041958042, 0.6041666666666666, 'gini = 0.0\\nsamples = 10\\nvalue = [10, 0]\\nclass = Died'),\n",
              " Text(0.8251748251748252, 0.6458333333333334, 'Age <= 34.0\\ngini = 0.444\\nsamples = 6\\nvalue = [4, 2]\\nclass = Died'),\n",
              " Text(0.8181818181818182, 0.6041666666666666, 'Fare <= 8.673\\ngini = 0.444\\nsamples = 3\\nvalue = [1, 2]\\nclass = Survived'),\n",
              " Text(0.8111888111888111, 0.5625, 'gini = 0.0\\nsamples = 1\\nvalue = [1, 0]\\nclass = Died'),\n",
              " Text(0.8251748251748252, 0.5625, 'gini = 0.0\\nsamples = 2\\nvalue = [0, 2]\\nclass = Survived'),\n",
              " Text(0.8321678321678322, 0.6041666666666666, 'gini = 0.0\\nsamples = 3\\nvalue = [3, 0]\\nclass = Died'),\n",
              " Text(0.8251748251748252, 0.6875, 'gini = 0.0\\nsamples = 1\\nvalue = [0, 1]\\nclass = Survived'),\n",
              " Text(0.8741258741258742, 0.7291666666666666, 'Age <= 27.5\\ngini = 0.486\\nsamples = 12\\nvalue = [5, 7]\\nclass = Survived'),\n",
              " Text(0.8601398601398601, 0.6875, 'Fare <= 13.935\\ngini = 0.375\\nsamples = 8\\nvalue = [2, 6]\\nclass = Survived'),\n",
              " Text(0.8531468531468531, 0.6458333333333334, 'Fare <= 10.798\\ngini = 0.245\\nsamples = 7\\nvalue = [1, 6]\\nclass = Survived'),\n",
              " Text(0.8461538461538461, 0.6041666666666666, 'Fare <= 9.906\\ngini = 0.5\\nsamples = 2\\nvalue = [1, 1]\\nclass = Died'),\n",
              " Text(0.8391608391608392, 0.5625, 'gini = 0.0\\nsamples = 1\\nvalue = [0, 1]\\nclass = Survived'),\n",
              " Text(0.8531468531468531, 0.5625, 'gini = 0.0\\nsamples = 1\\nvalue = [1, 0]\\nclass = Died'),\n",
              " Text(0.8601398601398601, 0.6041666666666666, 'gini = 0.0\\nsamples = 5\\nvalue = [0, 5]\\nclass = Survived'),\n",
              " Text(0.8671328671328671, 0.6458333333333334, 'gini = 0.0\\nsamples = 1\\nvalue = [1, 0]\\nclass = Died'),\n",
              " Text(0.8881118881118881, 0.6875, 'SibSp <= 0.5\\ngini = 0.375\\nsamples = 4\\nvalue = [3, 1]\\nclass = Died'),\n",
              " Text(0.8811188811188811, 0.6458333333333334, 'Age <= 29.35\\ngini = 0.5\\nsamples = 2\\nvalue = [1, 1]\\nclass = Died'),\n",
              " Text(0.8741258741258742, 0.6041666666666666, 'gini = 0.0\\nsamples = 1\\nvalue = [0, 1]\\nclass = Survived'),\n",
              " Text(0.8881118881118881, 0.6041666666666666, 'gini = 0.0\\nsamples = 1\\nvalue = [1, 0]\\nclass = Died'),\n",
              " Text(0.8951048951048951, 0.6458333333333334, 'gini = 0.0\\nsamples = 2\\nvalue = [2, 0]\\nclass = Died'),\n",
              " Text(0.9440559440559441, 0.8125, 'Age <= 29.35\\ngini = 0.365\\nsamples = 25\\nvalue = [6, 19]\\nclass = Survived'),\n",
              " Text(0.9300699300699301, 0.7708333333333334, 'Age <= 25.0\\ngini = 0.486\\nsamples = 12\\nvalue = [5, 7]\\nclass = Survived'),\n",
              " Text(0.9230769230769231, 0.7291666666666666, 'SibSp <= 2.5\\ngini = 0.42\\nsamples = 10\\nvalue = [3, 7]\\nclass = Survived'),\n",
              " Text(0.916083916083916, 0.6875, 'Parch <= 0.5\\ngini = 0.219\\nsamples = 8\\nvalue = [1, 7]\\nclass = Survived'),\n",
              " Text(0.9090909090909091, 0.6458333333333334, 'Fare <= 16.925\\ngini = 0.5\\nsamples = 2\\nvalue = [1, 1]\\nclass = Died'),\n",
              " Text(0.9020979020979021, 0.6041666666666666, 'gini = 0.0\\nsamples = 1\\nvalue = [0, 1]\\nclass = Survived'),\n",
              " Text(0.916083916083916, 0.6041666666666666, 'gini = 0.0\\nsamples = 1\\nvalue = [1, 0]\\nclass = Died'),\n",
              " Text(0.9230769230769231, 0.6458333333333334, 'gini = 0.0\\nsamples = 6\\nvalue = [0, 6]\\nclass = Survived'),\n",
              " Text(0.9300699300699301, 0.6875, 'gini = 0.0\\nsamples = 2\\nvalue = [2, 0]\\nclass = Died'),\n",
              " Text(0.9370629370629371, 0.7291666666666666, 'gini = 0.0\\nsamples = 2\\nvalue = [2, 0]\\nclass = Died'),\n",
              " Text(0.958041958041958, 0.7708333333333334, 'Age <= 30.35\\ngini = 0.142\\nsamples = 13\\nvalue = [1, 12]\\nclass = Survived'),\n",
              " Text(0.951048951048951, 0.7291666666666666, 'gini = 0.0\\nsamples = 8\\nvalue = [0, 8]\\nclass = Survived'),\n",
              " Text(0.965034965034965, 0.7291666666666666, 'Age <= 32.0\\ngini = 0.32\\nsamples = 5\\nvalue = [1, 4]\\nclass = Survived'),\n",
              " Text(0.958041958041958, 0.6875, 'Parch <= 0.5\\ngini = 0.5\\nsamples = 2\\nvalue = [1, 1]\\nclass = Died'),\n",
              " Text(0.951048951048951, 0.6458333333333334, 'gini = 0.0\\nsamples = 1\\nvalue = [1, 0]\\nclass = Died'),\n",
              " Text(0.965034965034965, 0.6458333333333334, 'gini = 0.0\\nsamples = 1\\nvalue = [0, 1]\\nclass = Survived'),\n",
              " Text(0.972027972027972, 0.6875, 'gini = 0.0\\nsamples = 3\\nvalue = [0, 3]\\nclass = Survived'),\n",
              " Text(0.986013986013986, 0.8541666666666666, 'Age <= 5.5\\ngini = 0.091\\nsamples = 21\\nvalue = [20, 1]\\nclass = Died'),\n",
              " Text(0.9790209790209791, 0.8125, 'Age <= 3.5\\ngini = 0.444\\nsamples = 3\\nvalue = [2, 1]\\nclass = Died'),\n",
              " Text(0.972027972027972, 0.7708333333333334, 'gini = 0.0\\nsamples = 2\\nvalue = [2, 0]\\nclass = Died'),\n",
              " Text(0.986013986013986, 0.7708333333333334, 'gini = 0.0\\nsamples = 1\\nvalue = [0, 1]\\nclass = Survived'),\n",
              " Text(0.993006993006993, 0.8125, 'gini = 0.0\\nsamples = 18\\nvalue = [18, 0]\\nclass = Died')]"
            ]
          },
          "metadata": {},
          "execution_count": 39
        },
        {
          "output_type": "display_data",
          "data": {
            "text/plain": [
              "<Figure size 640x480 with 1 Axes>"
            ],
            "image/png": "[encoded data removed]"
          },
          "metadata": {}
        }
      ]
    },
    {
      "cell_type": "markdown",
      "source": [
        "# Hyperparameter optimisation techniques"
      ],
      "metadata": {
        "id": "WBl5KbPgYB3O"
      }
    },
    {
      "cell_type": "markdown",
      "source": [
        "## Grid Search"
      ],
      "metadata": {
        "id": "By4BwY7IYEIT"
      }
    },
    {
      "cell_type": "code",
      "source": [
        "from sklearn.model_selection import GridSearchCV\n",
        "\n",
        "# Define the parameter grid\n",
        "param_grid = {\n",
        "    'n_estimators': [50, 100, 200],\n",
        "    'max_depth': [None, 10, 20],\n",
        "    'min_samples_split': [2, 5, 10]\n",
        "}\n",
        "\n",
        "# Perform Grid Search\n",
        "grid_search = GridSearchCV(random_forest_clf, param_grid, cv=5)\n",
        "grid_search.fit(X_train, y_train)\n",
        "\n",
        "# Best parameters and score\n",
        "best_params = grid_search.best_params_\n",
        "best_score = grid_search.best_score_"
      ],
      "metadata": {
        "id": "Br4K8nnEQpEw",
        "colab": {
          "base_uri": "https://localhost:8080/"
        },
        "outputId": "53c7fa0b-8d91-41b0-c67f-421ca677c4cb"
      },
      "execution_count": null,
      "outputs": [
        {
          "output_type": "stream",
          "name": "stdout",
          "text": [
            "time: 35.4 s (started: 2023-11-06 11:57:52 +00:00)\n"
          ]
        }
      ]
    },
    {
      "cell_type": "code",
      "source": [
        "best_params\n"
      ],
      "metadata": {
        "colab": {
          "base_uri": "https://localhost:8080/"
        },
        "id": "YXGHsdevYa-z",
        "outputId": "f12c3dd6-3c28-46f0-97c2-74854b1248e9"
      },
      "execution_count": null,
      "outputs": [
        {
          "output_type": "execute_result",
          "data": {
            "text/plain": [
              "{'max_depth': 10, 'min_samples_split': 10, 'n_estimators': 200}"
            ]
          },
          "metadata": {},
          "execution_count": 44
        }
      ]
    },
    {
      "cell_type": "code",
      "source": [
        "best_score"
      ],
      "metadata": {
        "colab": {
          "base_uri": "https://localhost:8080/"
        },
        "id": "QHGzT6ynYdV_",
        "outputId": "bb9efcd6-1ad1-4e40-f656-64d29ac649f1"
      },
      "execution_count": null,
      "outputs": [
        {
          "output_type": "execute_result",
          "data": {
            "text/plain": [
              "0.8313897370235399"
            ]
          },
          "metadata": {},
          "execution_count": 45
        }
      ]
    },
    {
      "cell_type": "markdown",
      "source": [
        "## Random Search"
      ],
      "metadata": {
        "id": "_VhnWED2YYmF"
      }
    },
    {
      "cell_type": "code",
      "source": [
        "from sklearn.model_selection import RandomizedSearchCV\n",
        "from scipy.stats import randint\n",
        "\n",
        "# Define the parameter distribution\n",
        "param_dist = {\n",
        "    'n_estimators': randint(50, 200),\n",
        "    'max_depth': [None, 10, 20],\n",
        "    'min_samples_split': [2, 5, 10]\n",
        "}\n",
        "\n",
        "# Perform Random Search\n",
        "random_search = RandomizedSearchCV(random_forest_clf, param_distributions=param_dist, n_iter=10, cv=5)\n",
        "random_search.fit(X_train, y_train)\n",
        "\n",
        "# Best parameters and score\n",
        "best_params = random_search.best_params_\n",
        "best_score = random_search.best_score_\n"
      ],
      "metadata": {
        "colab": {
          "base_uri": "https://localhost:8080/"
        },
        "id": "hJP8X9pMYmBb",
        "outputId": "8ab3997a-e077-4270-f6f0-f583152663c0"
      },
      "execution_count": null,
      "outputs": [
        {
          "output_type": "stream",
          "name": "stdout",
          "text": [
            "time: 28.5 s (started: 2023-11-06 12:00:46 +00:00)\n"
          ]
        }
      ]
    },
    {
      "cell_type": "code",
      "source": [
        "best_params"
      ],
      "metadata": {
        "colab": {
          "base_uri": "https://localhost:8080/"
        },
        "id": "qBUYZpa4Yt1q",
        "outputId": "b8000a71-f0ea-4516-aa70-4fe2539e39bd"
      },
      "execution_count": null,
      "outputs": [
        {
          "output_type": "execute_result",
          "data": {
            "text/plain": [
              "{'max_depth': 10, 'min_samples_split': 10, 'n_estimators': 186}"
            ]
          },
          "metadata": {},
          "execution_count": 47
        }
      ]
    },
    {
      "cell_type": "code",
      "source": [
        "best_score"
      ],
      "metadata": {
        "colab": {
          "base_uri": "https://localhost:8080/"
        },
        "id": "QxPHV2YxYvGJ",
        "outputId": "c3bc4bcb-9cbb-4dbc-8c76-572899bda502"
      },
      "execution_count": null,
      "outputs": [
        {
          "output_type": "execute_result",
          "data": {
            "text/plain": [
              "0.8313897370235399"
            ]
          },
          "metadata": {},
          "execution_count": 48
        }
      ]
    },
    {
      "cell_type": "markdown",
      "source": [
        "## Bayesian Optimisation"
      ],
      "metadata": {
        "id": "5JG5WDC_ZsQ1"
      }
    },
    {
      "cell_type": "code",
      "source": [
        "pip install scikit-optimize"
      ],
      "metadata": {
        "colab": {
          "base_uri": "https://localhost:8080/"
        },
        "id": "ipZsH1ppaOrr",
        "outputId": "db2de174-da7a-404a-b62d-562e49e85c80"
      },
      "execution_count": null,
      "outputs": [
        {
          "output_type": "stream",
          "name": "stdout",
          "text": [
            "Collecting scikit-optimize\n",
            "  Downloading scikit_optimize-0.9.0-py2.py3-none-any.whl (100 kB)\n",
            "\u001b[2K     \u001b[90m━━━━━━━━━━━━━━━━━━━━━━━━━━━━━━━━━━━━━━━━\u001b[0m \u001b[32m100.3/100.3 kB\u001b[0m \u001b[31m2.3 MB/s\u001b[0m eta \u001b[36m0:00:00\u001b[0m\n",
            "\u001b[?25hRequirement already satisfied: joblib>=0.11 in /usr/local/lib/python3.10/dist-packages (from scikit-optimize) (1.3.2)\n",
            "Collecting pyaml>=16.9 (from scikit-optimize)\n",
            "  Downloading pyaml-23.9.7-py3-none-any.whl (23 kB)\n",
            "Requirement already satisfied: numpy>=1.13.3 in /usr/local/lib/python3.10/dist-packages (from scikit-optimize) (1.23.5)\n",
            "Requirement already satisfied: scipy>=0.19.1 in /usr/local/lib/python3.10/dist-packages (from scikit-optimize) (1.11.3)\n",
            "Requirement already satisfied: scikit-learn>=0.20.0 in /usr/local/lib/python3.10/dist-packages (from scikit-optimize) (1.2.2)\n",
            "Requirement already satisfied: PyYAML in /usr/local/lib/python3.10/dist-packages (from pyaml>=16.9->scikit-optimize) (6.0.1)\n",
            "Requirement already satisfied: threadpoolctl>=2.0.0 in /usr/local/lib/python3.10/dist-packages (from scikit-learn>=0.20.0->scikit-optimize) (3.2.0)\n",
            "Installing collected packages: pyaml, scikit-optimize\n",
            "Successfully installed pyaml-23.9.7 scikit-optimize-0.9.0\n"
          ]
        }
      ]
    },
    {
      "cell_type": "code",
      "source": [
        "from skopt import BayesSearchCV\n",
        "from sklearn.ensemble import RandomForestClassifier\n",
        "\n",
        "# Define the parameter search space\n",
        "param_space = {\n",
        "    'n_estimators': (50, 200),\n",
        "    'max_depth': (None, 10, 20),\n",
        "    'min_samples_split': (2, 5, 10)\n",
        "}\n",
        "\n",
        "\n",
        "# Perform Bayesian Optimization\n",
        "bayes_search = BayesSearchCV(random_forest_clf, param_space, cv=5, n_iter=10, n_jobs=-1)\n",
        "bayes_search.fit(X_train, y_train)\n",
        "\n",
        "# Best parameters and score\n",
        "best_params = bayes_search.best_params_\n",
        "best_score = bayes_search.best_score_\n"
      ],
      "metadata": {
        "colab": {
          "base_uri": "https://localhost:8080/"
        },
        "id": "Q8Pk15T2ZsqC",
        "outputId": "aedbb115-5b68-40f5-bff7-5794d08f634d"
      },
      "execution_count": null,
      "outputs": [
        {
          "output_type": "stream",
          "name": "stdout",
          "text": [
            "time: 14.8 s (started: 2023-11-06 12:01:57 +00:00)\n"
          ]
        }
      ]
    },
    {
      "cell_type": "code",
      "source": [
        "best_params"
      ],
      "metadata": {
        "colab": {
          "base_uri": "https://localhost:8080/"
        },
        "id": "N8hykbUeaqDY",
        "outputId": "d4d30516-b72c-4007-d7bf-f4cd6c60aaf6"
      },
      "execution_count": null,
      "outputs": [
        {
          "output_type": "execute_result",
          "data": {
            "text/plain": [
              "OrderedDict([('max_depth', 10),\n",
              "             ('min_samples_split', 10),\n",
              "             ('n_estimators', 106)])"
            ]
          },
          "metadata": {},
          "execution_count": 63
        }
      ]
    },
    {
      "cell_type": "code",
      "source": [
        "best_score"
      ],
      "metadata": {
        "colab": {
          "base_uri": "https://localhost:8080/"
        },
        "id": "T0YrsMm6ar5U",
        "outputId": "3b6d7554-ed8c-4406-a71e-2e295739d12d"
      },
      "execution_count": null,
      "outputs": [
        {
          "output_type": "execute_result",
          "data": {
            "text/plain": [
              "0.8299911356249385"
            ]
          },
          "metadata": {},
          "execution_count": 64
        }
      ]
    },
    {
      "cell_type": "markdown",
      "source": [
        "# Bias-Variance Challenge"
      ],
      "metadata": {
        "id": "EzM8Oe8UX6S0"
      }
    },
    {
      "cell_type": "markdown",
      "source": [
        "This section is for my post [Bias-Variance Challenge](https://daehnhardt.com/blog/)"
      ],
      "metadata": {
        "id": "QSBu_Hh0U-z1"
      }
    },
    {
      "cell_type": "code",
      "source": [
        "from sklearn.model_selection import cross_val_score"
      ],
      "metadata": {
        "colab": {
          "base_uri": "https://localhost:8080/"
        },
        "id": "EIGXqQnbvqUB",
        "outputId": "6f2d44b3-fc84-4d9b-9053-48db7fb89908"
      },
      "execution_count": null,
      "outputs": [
        {
          "output_type": "stream",
          "name": "stdout",
          "text": [
            "time: 659 µs (started: 2023-11-06 13:07:20 +00:00)\n"
          ]
        }
      ]
    },
    {
      "cell_type": "code",
      "source": [
        "# Calculate the Decision Tree model's bias using cross-validation\n",
        "bias_scores = cross_val_score(decision_tree_clf, X_train, y_train, cv=5, scoring='neg_mean_squared_error')\n",
        "bias = -bias_scores.mean()\n",
        "\n",
        "# Calculate variance using cross-validation\n",
        "variance = bias_scores.std()\n",
        "\n",
        "print(f'Bias: {bias}')\n",
        "print(f'Variance: {variance}')"
      ],
      "metadata": {
        "colab": {
          "base_uri": "https://localhost:8080/"
        },
        "id": "vkj5Y-jTXY1J",
        "outputId": "105a230c-2b10-4c41-b021-cc7f5d5d6062"
      },
      "execution_count": null,
      "outputs": [
        {
          "output_type": "stream",
          "name": "stdout",
          "text": [
            "Bias: 0.24998522604156403\n",
            "Variance: 0.02736821291803949\n",
            "time: 37.1 ms (started: 2023-11-06 13:06:27 +00:00)\n"
          ]
        }
      ]
    },
    {
      "cell_type": "code",
      "source": [
        "\n",
        "\n",
        "# Calculate the Random Forest model's bias using cross-validation\n",
        "bias_scores = cross_val_score(random_forest_clf, X_train, y_train, cv=5, scoring='neg_mean_squared_error')\n",
        "bias = -bias_scores.mean()\n",
        "\n",
        "# Calculate variance using cross-validation\n",
        "variance = bias_scores.std()\n",
        "\n",
        "print(f'Bias: {bias}')\n",
        "print(f'Variance: {variance}')"
      ],
      "metadata": {
        "colab": {
          "base_uri": "https://localhost:8080/"
        },
        "id": "Q4WCrNq0_gIw",
        "outputId": "19fb057d-3577-4e9f-a412-9e68fd813694"
      },
      "execution_count": null,
      "outputs": [
        {
          "output_type": "stream",
          "name": "stdout",
          "text": [
            "Bias: 0.19808923470895298\n",
            "Variance: 0.018009815555289254\n",
            "time: 2.33 s (started: 2023-11-06 13:08:26 +00:00)\n"
          ]
        }
      ]
    }
  ]
}